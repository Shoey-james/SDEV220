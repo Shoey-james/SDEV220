{
 "cells": [
  {
   "cell_type": "markdown",
   "metadata": {},
   "source": [
    "## 13.1 - Write the current date as a string to the text file *today.txt*"
   ]
  },
  {
   "cell_type": "code",
   "execution_count": 10,
   "metadata": {},
   "outputs": [
    {
     "name": "stdout",
     "output_type": "stream",
     "text": [
      "2025-02-17 20:01:34.852020\n"
     ]
    }
   ],
   "source": [
    "import datetime\n",
    "\n",
    "time_now: datetime = datetime.datetime.now()\n",
    "str_time_now: str = str(time_now)\n",
    "print(str_time_now)"
   ]
  },
  {
   "cell_type": "markdown",
   "metadata": {},
   "source": [
    "## 13.2 - Read the date time from the file"
   ]
  },
  {
   "cell_type": "code",
   "execution_count": 11,
   "metadata": {},
   "outputs": [],
   "source": [
    "today_string: str = str_time_now"
   ]
  },
  {
   "cell_type": "markdown",
   "metadata": {},
   "source": [
    "## 13.3 - Parse the date from the today_string"
   ]
  },
  {
   "cell_type": "code",
   "execution_count": 20,
   "metadata": {},
   "outputs": [
    {
     "name": "stdout",
     "output_type": "stream",
     "text": [
      "Hour: 2025 Month: 02 Day: 17 Hour: 20 Minute: 01\n"
     ]
    }
   ],
   "source": [
    "import re\n",
    "\n",
    "# 2025-02-17 19:42:01.266149\n",
    "\n",
    "re_matches = re.match(r'^(\\d{4})\\-(\\d{2})\\-(\\d{2}) (\\d{2})\\:(\\d{2})\\:(\\d{2})\\.(\\d+)$', today_string)\n",
    "matches: tuple = re_matches.groups()\n",
    "print(f\"Hour: {matches[0]} Month: {matches[1]} Day: {matches[2]} Hour: {matches[3]} Minute: {matches[4]}\")\n"
   ]
  },
  {
   "cell_type": "markdown",
   "metadata": {},
   "source": [
    "## 15.1 Use Multiprocessing to create three separate processes \n",
    "Make each one wait a random number of seconds between zero and one,\n",
    "print the current time, and then exit."
   ]
  },
  {
   "cell_type": "code",
   "execution_count": 7,
   "metadata": {},
   "outputs": [
    {
     "name": "stdout",
     "output_type": "stream",
     "text": [
      "2025-02-19 19:11:12.700655\n",
      "2025-02-19 19:11:13.253662\n",
      "2025-02-19 19:11:13.370507\n"
     ]
    }
   ],
   "source": [
    "import multiprocessing as mp\n",
    "import random\n",
    "from datetime import datetime\n",
    "from time import sleep\n",
    "\n",
    "def mp_demo(proc_num):\n",
    "    print(datetime.now(), 'in process',proc_num)\n",
    "    # proc_info.task_done()\n",
    "\n",
    "for i in range(0,3):\n",
    "    num_seconds = random.random()\n",
    "    p = mp.Process(target=mp_demo, args=(i,))\n",
    "    # p.daemon = True\n",
    "    p.start()\n",
    "    p.join()\n",
    "    sleep(num_seconds)\n",
    "    print(datetime.now())\n"
   ]
  }
 ],
 "metadata": {
  "kernelspec": {
   "display_name": "Python 3",
   "language": "python",
   "name": "python3"
  },
  "language_info": {
   "codemirror_mode": {
    "name": "ipython",
    "version": 3
   },
   "file_extension": ".py",
   "mimetype": "text/x-python",
   "name": "python",
   "nbconvert_exporter": "python",
   "pygments_lexer": "ipython3",
   "version": "3.12.0"
  }
 },
 "nbformat": 4,
 "nbformat_minor": 2
}
