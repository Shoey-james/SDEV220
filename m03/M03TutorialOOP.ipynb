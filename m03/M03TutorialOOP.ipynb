{
 "cells": [
  {
   "cell_type": "markdown",
   "metadata": {},
   "source": [
    "# Module 3 Tutorial - Functional vs OOP Programming\n",
    "# James Shoemaker \n",
    "# 1/29/25 "
   ]
  },
  {
   "cell_type": "markdown",
   "metadata": {},
   "source": [
    "# Sort 0s, 1s and 2s\n",
    "https://www.geeksforgeeks.org/problems/sort-an-array-of-0s-1s-and-2s4231/1?utm_source=geeksforgeeks"
   ]
  },
  {
   "cell_type": "code",
   "execution_count": 1,
   "metadata": {},
   "outputs": [
    {
     "name": "stdout",
     "output_type": "stream",
     "text": [
      "0 0 1 1 2 2 "
     ]
    }
   ],
   "source": [
    "def sort012(arr):\n",
    "    c0 = 0\n",
    "    c1 = 0\n",
    "    c2 = 0\n",
    "\n",
    "    for num in arr: # count all the 0s, 1s, 2s\n",
    "        if num == 0: # if num equals 0 it'll increment count +1\n",
    "            c0 += 1\n",
    "        elif num == 1: # if num equals 1 it'll increment count +1\n",
    "            c1 += 1\n",
    "        else:          # if the number is anything but 0 or 1 it'll increment counter by 1 \n",
    "            c2 += 1 \n",
    "\n",
    "    idx = 0\n",
    "    \n",
    "    for i in range(c0): # place 0's\n",
    "        arr[idx] = 0\n",
    "        idx += 1\n",
    "\n",
    "    for i in range(c1): # place 1's\n",
    "        arr[idx] = 1\n",
    "        idx += 1\n",
    "\n",
    "    for i in range(c2): # place 2's\n",
    "        arr[idx] = 2\n",
    "        idx += 1\n",
    "        \n",
    "arr = [0, 1, 2, 0, 1, 2]\n",
    "sort012(arr) # runs the sorting (sort012) function as defined above\n",
    "\n",
    "for x in arr:\n",
    "    print(x, end = \" \") # prints the array in order from 0-->2"
   ]
  },
  {
   "cell_type": "markdown",
   "metadata": {},
   "source": [
    "# Binary Search\n",
    "https://www.geeksforgeeks.org/problems/binary-search-1587115620/1?utm_source=geeksforgeeks&utm_medium=article_practice_tab&utm_campaign=article_practice_tab"
   ]
  },
  {
   "cell_type": "code",
   "execution_count": 17,
   "metadata": {},
   "outputs": [
    {
     "name": "stdout",
     "output_type": "stream",
     "text": [
      "The index of 1 is 0\n"
     ]
    }
   ],
   "source": [
    "class Solution:\n",
    "    def binarysearch(self, arr, k):\n",
    "        left, right = 0, len(arr) - 1 # initialize variables, left at 0 and right len(arr)-1\n",
    "        result = -1\n",
    "        while left <= right:\n",
    "            mid = left + (right - left) // 2 # calculates index of the middle of array\n",
    "            # finding k's position in array, stored as result\n",
    "            if arr[mid] == k:\n",
    "                result = mid\n",
    "                right = mid - 1\n",
    "            elif arr[mid] < k:\n",
    "                left = mid + 1\n",
    "            else:\n",
    "                right = mid - 1\n",
    "\n",
    "        return result  # result stores index of first occurrence of k, will be -1 if k is not found \n",
    "# array and k value inputs\n",
    "arr = [1, 1, 1, 1, 2]\n",
    "k = 1\n",
    "\n",
    "# create instance of solution\n",
    "solution = Solution()\n",
    "\n",
    "# run the binarysearch function, print index of k\n",
    "print(\"The index of\", k, \"is\", solution.binarysearch(arr, k))"
   ]
  }
 ],
 "metadata": {
  "kernelspec": {
   "display_name": "Python 3",
   "language": "python",
   "name": "python3"
  },
  "language_info": {
   "codemirror_mode": {
    "name": "ipython",
    "version": 3
   },
   "file_extension": ".py",
   "mimetype": "text/x-python",
   "name": "python",
   "nbconvert_exporter": "python",
   "pygments_lexer": "ipython3",
   "version": "3.12.0"
  }
 },
 "nbformat": 4,
 "nbformat_minor": 2
}
